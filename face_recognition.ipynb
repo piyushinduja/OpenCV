{
 "cells": [
  {
   "cell_type": "code",
   "execution_count": 14,
   "metadata": {},
   "outputs": [],
   "source": [
    "import cv2 as cv\n",
    "import numpy as np\n",
    "import os"
   ]
  },
  {
   "cell_type": "code",
   "execution_count": 15,
   "metadata": {},
   "outputs": [],
   "source": [
    "persons = {'Ben Afflek':0, 'Elton John':1, 'Jerry Seinfield':2, 'Madonna':3, 'Mindy Kaling':4}\n",
    "\n",
    "features = []\n",
    "labels = []\n",
    "haar_cascade = cv.CascadeClassifier('haar_cascades.xml')\n",
    "for person in persons:\n",
    "    path = os.path.join(os.curdir+'\\\\Resources\\\\Faces\\\\train\\\\', person)\n",
    "    for img in os.listdir(path):\n",
    "        img_path = os.path.join(path, img)\n",
    "        img = cv.imread(img_path)\n",
    "        gray = cv.cvtColor(img, cv.COLOR_BGR2GRAY)\n",
    "        face_rects = haar_cascade.detectMultiScale(gray, scaleFactor=1.1, minNeighbors=4)\n",
    "        for (x,y,w,h) in face_rects:\n",
    "            face = gray[y:y+h, x:x+w]\n",
    "            features.append(face)\n",
    "            labels.append(persons[person])\n",
    "\n",
    "features = np.array(features, dtype='object')\n",
    "labels = np.array(labels)\n",
    "\n",
    "face_recognizer = cv.face.LBPHFaceRecognizer_create()\n",
    "face_recognizer.train(features, labels)\n",
    "\n",
    "face_recognizer.save('face_trained.yml')"
   ]
  },
  {
   "cell_type": "code",
   "execution_count": null,
   "metadata": {},
   "outputs": [],
   "source": []
  }
 ],
 "metadata": {
  "kernelspec": {
   "display_name": "Python 3",
   "language": "python",
   "name": "python3"
  },
  "language_info": {
   "codemirror_mode": {
    "name": "ipython",
    "version": 3
   },
   "file_extension": ".py",
   "mimetype": "text/x-python",
   "name": "python",
   "nbconvert_exporter": "python",
   "pygments_lexer": "ipython3",
   "version": "3.9.6"
  }
 },
 "nbformat": 4,
 "nbformat_minor": 2
}
