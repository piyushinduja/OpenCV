{
 "cells": [
  {
   "cell_type": "code",
   "execution_count": 1,
   "metadata": {},
   "outputs": [],
   "source": [
    "# OpenCV provides us with two pretrained classifiers for Face Detection, namely 'Haar Cascades' and a more advanced one 'Local Binary Patterns'.\n",
    "# In this notebook, we will be using the Haar Cascades."
   ]
  },
  {
   "cell_type": "code",
   "execution_count": 2,
   "metadata": {},
   "outputs": [],
   "source": [
    "import cv2 as cv"
   ]
  },
  {
   "cell_type": "code",
   "execution_count": 7,
   "metadata": {},
   "outputs": [
    {
     "data": {
      "text/plain": [
       "-1"
      ]
     },
     "execution_count": 7,
     "metadata": {},
     "output_type": "execute_result"
    }
   ],
   "source": [
    "img = cv.imread('./Resources/Photos/lady.jpg')\n",
    "gray = cv.cvtColor(img, cv.COLOR_BGR2GRAY)\n",
    "cv.imshow('Gray', gray)\n",
    "\n",
    "haar_cascade = cv.CascadeClassifier('haar_cascades.xml')\n",
    "face_rects = haar_cascade.detectMultiScale(gray, scaleFactor=1.1, minNeighbors=3) # Modifying 'minNeighbours' parameter helps us change he sensitivity of the detection\n",
    "# Lesser the value, lower the threshold of detecting faces, that is, it will detect more face like objects in the image\n",
    "\n",
    "for (x, y, w, h) in face_rects:\n",
    "    cv.rectangle(img, (x,y), (x+w, y+h), 255, 1)\n",
    "cv.imshow('Faces', img)\n",
    "\n",
    "cv.waitKey(0)"
   ]
  },
  {
   "cell_type": "code",
   "execution_count": null,
   "metadata": {},
   "outputs": [],
   "source": []
  }
 ],
 "metadata": {
  "kernelspec": {
   "display_name": "Python 3",
   "language": "python",
   "name": "python3"
  },
  "language_info": {
   "codemirror_mode": {
    "name": "ipython",
    "version": 3
   },
   "file_extension": ".py",
   "mimetype": "text/x-python",
   "name": "python",
   "nbconvert_exporter": "python",
   "pygments_lexer": "ipython3",
   "version": "3.9.6"
  }
 },
 "nbformat": 4,
 "nbformat_minor": 2
}
