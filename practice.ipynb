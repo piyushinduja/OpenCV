{
 "cells": [
  {
   "cell_type": "code",
   "execution_count": 2,
   "metadata": {},
   "outputs": [],
   "source": [
    "import cv2 as cv\n",
    "import numpy as np"
   ]
  },
  {
   "cell_type": "code",
   "execution_count": 9,
   "metadata": {},
   "outputs": [
    {
     "name": "stdout",
     "output_type": "stream",
     "text": [
      "(2208, 1656, 3) (2208, 1656)\n"
     ]
    }
   ],
   "source": [
    "# Bitwise operations\n",
    "blank = np.zeros((2208,1656), dtype='uint8')\n",
    "\n",
    "# rectangle = cv.rectangle(blank.copy(), (30,30), (370,370), 255, -1)\n",
    "img = cv.imread('./profile-pic.jpeg')\n",
    "gray = cv.cvtColor(img, cv.COLOR_BGR2GRAY)\n",
    "circle = cv.circle(blank.copy(), (200, 200), 200, 255, -1)\n",
    "print(img.shape, circle.shape)\n",
    "\n",
    "bit_and = cv.bitwise_and(gray, circle) # Returns the intersecting regions between images\n",
    "bit_or = cv.bitwise_or(gray, circle) # Returns both intersecting and non-intersecting regions between images\n",
    "bit_xor = cv.bitwise_xor(gray, circle) # Returns the non-intersecting regions between images\n",
    "bit_not = cv.bitwise_not(gray)\n",
    "\n",
    "cv.imshow('Bitwise AND', bit_and)\n",
    "cv.imshow('Bitwise OR', bit_or)\n",
    "cv.imshow('Bitwise XOR', bit_xor)\n",
    "cv.imshow('Bitwise NOT', bit_not)\n",
    "\n",
    "cv.waitKey(0)"
   ]
  },
  {
   "cell_type": "code",
   "execution_count": null,
   "metadata": {},
   "outputs": [],
   "source": []
  }
 ],
 "metadata": {
  "kernelspec": {
   "display_name": "Python 3",
   "language": "python",
   "name": "python3"
  },
  "language_info": {
   "codemirror_mode": {
    "name": "ipython",
    "version": 3
   },
   "file_extension": ".py",
   "mimetype": "text/x-python",
   "name": "python",
   "nbconvert_exporter": "python",
   "pygments_lexer": "ipython3",
   "version": "3.12.4"
  }
 },
 "nbformat": 4,
 "nbformat_minor": 2
}
