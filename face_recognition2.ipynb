{
 "cells": [
  {
   "cell_type": "code",
   "execution_count": 1,
   "metadata": {},
   "outputs": [],
   "source": [
    "import numpy as np\n",
    "import cv2 as cv"
   ]
  },
  {
   "cell_type": "code",
   "execution_count": 7,
   "metadata": {},
   "outputs": [
    {
     "data": {
      "text/plain": [
       "-1"
      ]
     },
     "execution_count": 7,
     "metadata": {},
     "output_type": "execute_result"
    }
   ],
   "source": [
    "persons = {0:'Ben Afflek', 1:'Elton John', 2:'Jerry Seinfield', 3:'Madonna', 4:'Mindy Kaling'}\n",
    "\n",
    "face_recogniser = cv.face.LBPHFaceRecognizer_create()\n",
    "face_recogniser.read('face_trained.yml')\n",
    "\n",
    "haar_cascade = cv.CascadeClassifier('haar_cascades.xml')\n",
    "\n",
    "img = cv.imread('.\\\\Resources\\\\Faces\\\\val\\\\elton_john\\\\1.jpg')\n",
    "gray = cv.cvtColor(img, cv.COLOR_BGR2GRAY)\n",
    "\n",
    "face_rects = haar_cascade.detectMultiScale(gray, 1.1, 4)\n",
    "for (x,y,w,h) in face_rects:\n",
    "    face_roi = gray[y:y+h, x:x+w]\n",
    "    label, confidence = face_recogniser.predict(face_roi)\n",
    "    \n",
    "    cv.rectangle(img, (x,y), (x+w, y+h), 255, 1)\n",
    "    str1 = persons[label] + str(confidence)\n",
    "    cv.putText(img, str1, (20,20), cv.FONT_HERSHEY_COMPLEX, 1.0, 255, 2)\n",
    "\n",
    "cv.imshow('Detected', img)\n",
    "cv.waitKey(0)"
   ]
  },
  {
   "cell_type": "code",
   "execution_count": null,
   "metadata": {},
   "outputs": [],
   "source": []
  }
 ],
 "metadata": {
  "kernelspec": {
   "display_name": "Python 3",
   "language": "python",
   "name": "python3"
  },
  "language_info": {
   "codemirror_mode": {
    "name": "ipython",
    "version": 3
   },
   "file_extension": ".py",
   "mimetype": "text/x-python",
   "name": "python",
   "nbconvert_exporter": "python",
   "pygments_lexer": "ipython3",
   "version": "3.9.6"
  }
 },
 "nbformat": 4,
 "nbformat_minor": 2
}
