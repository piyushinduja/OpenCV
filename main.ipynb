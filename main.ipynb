{
 "cells": [
  {
   "cell_type": "code",
   "execution_count": 1,
   "metadata": {},
   "outputs": [],
   "source": [
    "import cv2 as cv\n",
    "import numpy as np\n",
    "import matplotlib.pyplot as plt"
   ]
  },
  {
   "cell_type": "code",
   "execution_count": 8,
   "metadata": {},
   "outputs": [
    {
     "name": "stdout",
     "output_type": "stream",
     "text": [
      "(427, 640, 3)\n"
     ]
    },
    {
     "data": {
      "text/plain": [
       "-1"
      ]
     },
     "execution_count": 8,
     "metadata": {},
     "output_type": "execute_result"
    }
   ],
   "source": [
    "img = cv.imread('./Resources/Photos/cat.jpg') # 'imread' helps us read an image as a matrix of pixels\n",
    "print(img.shape)\n",
    "cv.imshow(winname='Cat', mat=img) # Displays the matrix as photo\n",
    "cv.waitKey(0) # It is a keyboard binding function which displays the photo unless the window is closed"
   ]
  },
  {
   "cell_type": "code",
   "execution_count": 3,
   "metadata": {},
   "outputs": [],
   "source": [
    "# Reading videos\n",
    "capture = cv.VideoCapture('./Resources/Videos/dog.mp4')\n",
    "\n",
    "while True:\n",
    "    isTrue, frame = capture.read() # Reading video frame by frame\n",
    "    cv.imshow(winname='Dog Video', mat=frame)\n",
    "    if cv.waitKey(20) & 0xFF==ord('d'): # The integer passed inside 'waitKey' controls speed of video and other condition stops the video if 'D' key is pressed\n",
    "        break\n",
    "capture.release()\n",
    "cv.destroyAllWindows()"
   ]
  },
  {
   "cell_type": "code",
   "execution_count": 9,
   "metadata": {},
   "outputs": [],
   "source": [
    "# Rescaling and Resizing the images\n",
    "def rescaleFrame(frame, scale=0.75):\n",
    "    width = int(frame.shape[1]*scale) # 'frame' is a numpy array\n",
    "    height = int(frame.shape[0]*scale)\n",
    "    dim = (width, height)\n",
    "    return cv.resize(frame, dim, interpolation=cv.INTER_AREA)\n",
    "\n",
    "capture = cv.VideoCapture('./Resources/Videos/dog.mp4')\n",
    "\n",
    "while True:\n",
    "    isTrue, frame = capture.read()\n",
    "    frame_resized = rescaleFrame(frame=frame)\n",
    "    cv.imshow(winname='Dog Video', mat=frame_resized)\n",
    "    if cv.waitKey(20) & 0xFF==ord('d'):\n",
    "        break\n",
    "capture.release()\n",
    "cv.destroyAllWindows()"
   ]
  },
  {
   "cell_type": "code",
   "execution_count": 24,
   "metadata": {},
   "outputs": [
    {
     "data": {
      "text/plain": [
       "-1"
      ]
     },
     "execution_count": 24,
     "metadata": {},
     "output_type": "execute_result"
    }
   ],
   "source": [
    "# Drawing shapes inside an image\n",
    "blank = np.zeros((500, 600, 3), dtype='uint8')\n",
    "\n",
    "cv.rectangle(blank, (150, 300), (blank.shape[1]//2, blank.shape[0]//2), (0, 155, 30), thickness=2) # To get a filled rectangle we can pass 'thickness=-1' OR 'thickness=cv.FILLED'\n",
    "\n",
    "cv.circle(blank, (250, 250), radius=85, color=(150, 0, 150), thickness=3)\n",
    "\n",
    "cv.line(blank, (0, 0), (300, 350), color=(255, 255, 155), thickness=4)\n",
    "\n",
    "cv.putText(blank, \"Hello World!\", (300, 50), fontFace=cv.FONT_HERSHEY_TRIPLEX, fontScale=1.0, color=(255, 0, 0), thickness=2)\n",
    "\n",
    "cv.imshow(winname='Cat', mat=blank)\n",
    "cv.waitKey(0)"
   ]
  },
  {
   "cell_type": "code",
   "execution_count": 36,
   "metadata": {},
   "outputs": [
    {
     "data": {
      "text/plain": [
       "-1"
      ]
     },
     "execution_count": 36,
     "metadata": {},
     "output_type": "execute_result"
    }
   ],
   "source": [
    "# 5 Essential functions in OpenCV\n",
    "# In all the functions below, dimensions are in the format (width, height)\n",
    "img = cv.imread('./Resources/Photos/park.jpg')\n",
    "\n",
    "# 1. Converting a BGR Color image to GrayScale\n",
    "gray = cv.cvtColor(img, cv.COLOR_BGR2GRAY)\n",
    "# cv.imshow(winname='Gray', mat=gray)\n",
    "\n",
    "# 2. Blur\n",
    "blur = cv.GaussianBlur(img, (3,3), cv.BORDER_DEFAULT) # To increase the blur intensity, we can increase the kernel size\n",
    "# cv.imshow(winname='Blur', mat=blur)\n",
    "\n",
    "# 3. Finding edges in an image\n",
    "canny = cv.Canny(blur, 150, 200)\n",
    "# cv.imshow(winname='Canny', mat=canny)\n",
    "\n",
    "# 4. Dilating the image (Gradually enlarging the object boundaries)\n",
    "dilated = cv.dilate(canny, (5,5), iterations=3)\n",
    "# cv.imshow(winname='Dilated', mat=dilated)\n",
    "\n",
    "# 5. Eroding an image (Reverse of dilating)\n",
    "eroded = cv.erode(dilated, (5,5), iterations=3)\n",
    "# cv.imshow(winname='Eroded', mat=eroded)\n",
    "\n",
    "# Resizing and Cropping the image\n",
    "resized = cv.resize(img, (250,250))\n",
    "cropped = img[50:250, 250:400]\n",
    "cv.imshow('Resized', resized)\n",
    "cv.imshow('Cropped', cropped)\n",
    "\n",
    "cv.imshow(winname='Cat', mat=img)\n",
    "cv.waitKey(0)"
   ]
  },
  {
   "cell_type": "code",
   "execution_count": 19,
   "metadata": {},
   "outputs": [
    {
     "data": {
      "text/plain": [
       "-1"
      ]
     },
     "execution_count": 19,
     "metadata": {},
     "output_type": "execute_result"
    }
   ],
   "source": [
    "# Image Transformations\n",
    "\n",
    "# 1. Translation (Moving image on x and y axes)\n",
    "img = cv.imread('./Resources/Photos/park.jpg')\n",
    "\n",
    "def translate(img, x_shift, y_shift):\n",
    "    transMat = np.float32([[1,0,x_shift], [0,1,y_shift]]) # This is our \"Affine Transformation Matrix\"\n",
    "    dimensions = (img.shape[1], img.shape[0])\n",
    "    return cv.warpAffine(img, transMat, dimensions)\n",
    "\n",
    "translated = translate(img, 100, 150) # -y: UP, +y: DOWN, -x: LEFT, +x:RIGHT\n",
    "# cv.imshow('Translated', translated)\n",
    "\n",
    "# 2. Rotation\n",
    "def rotate(img, angle, point):\n",
    "    (width, height) = img.shape[:2]\n",
    "    if not point:\n",
    "        point = (width//2, height//2)\n",
    "    rotMat = cv.getRotationMatrix2D(point, angle, 1.0)\n",
    "    dim = (width, height)\n",
    "    return cv.warpAffine(img, rotMat, dim)\n",
    "\n",
    "rotated = rotate(img, 90, None)\n",
    "# cv.imshow('Rotated', rotated)\n",
    "\n",
    "# 3. Resize\n",
    "resized = cv.resize(img, (400,300))\n",
    "# cv.imshow('Reseized', resized)\n",
    "\n",
    "# 4. Flipping\n",
    "flipped = cv.flip(img, -1)\n",
    "# cv.imshow('Flipped', flipped)\n",
    "\n",
    "# 5. Cropping\n",
    "cropped = img[200:350, 400:500]\n",
    "cv.imshow('Cropped', cropped)\n",
    "\n",
    "cv.waitKey(0)"
   ]
  },
  {
   "cell_type": "code",
   "execution_count": 2,
   "metadata": {},
   "outputs": [],
   "source": [
    "# Contours Detection\n",
    "img = cv.imread('./Resources/Photos/cats.jpg')\n",
    "blank = np.zeros(img.shape, dtype='uint8')\n",
    "\n",
    "gray = cv.cvtColor(img, cv.COLOR_BGR2GRAY)\n",
    "blur = cv.GaussianBlur(gray, (5,5), cv.BORDER_DEFAULT)\n",
    "\n",
    "# 1. Using Canny function\n",
    "canny = cv.Canny(blur, 125, 175) # Gives us all the edges in the image\n",
    "\n",
    "# 2. Thresholding means Binarizing an image (either 0 or 1)\n",
    "ret, thresh = cv.threshold(gray, 125, 255, cv.THRESH_BINARY) # If a pixel value in the image is below 125, it sets it to Black and if it's above 125 it sets it to white\n",
    "cv.imshow('Threshold Contours', thresh)\n",
    "\n",
    "contours, hierarchies = cv.findContours(canny, cv.RETR_LIST, cv.CHAIN_APPROX_SIMPLE) # Image, Retrieval mode, contour approximation method (Eg If set to NONE, it will return all the points on the boundaries of a contour while if set to SIMPLE, it will return just the endpoints or important points required to display the contour)\n",
    "\n",
    "cv.drawContours(blank, contours, -1, (0,0,255), 1)\n",
    "cv.imshow('Contours', blank)\n",
    "\n",
    "# print(len(contours), len(contours[0]))\n",
    "\n",
    "cv.waitKey(0)"
   ]
  },
  {
   "cell_type": "code",
   "execution_count": 5,
   "metadata": {},
   "outputs": [
    {
     "data": {
      "text/plain": [
       "-1"
      ]
     },
     "execution_count": 5,
     "metadata": {},
     "output_type": "execute_result"
    }
   ],
   "source": [
    "# Color Models\n",
    "# OpenCV uses BGR color model but other Python libraries use RGB color model\n",
    "img  = cv.imread('./Resources/Photos/park.jpg')\n",
    "\n",
    "# BGR to Grayscale\n",
    "gray = cv.cvtColor(img, cv.COLOR_BGR2GRAY)\n",
    "# cv.imshow('Gray', gray)\n",
    "\n",
    "# BGR to HSV (Hue Saturation Value)\n",
    "hsv =  cv.cvtColor(img, cv.COLOR_BGR2HSV)\n",
    "# cv.imshow('HSV', hsv)\n",
    "\n",
    "# BGR to LAB\n",
    "lab = cv.cvtColor(img, cv.COLOR_BGR2LAB)\n",
    "# cv.imshow('LAB', lab)\n",
    "\n",
    "# BGR to RGB\n",
    "rgb = cv.cvtColor(img, cv.COLOR_BGR2RGB)\n",
    "# cv.imshow('RGB', rgb)\n",
    "\n",
    "# We have functions to go back from HSV, Grayscale, LAB to BGR not directly from LAB to HSV or any other color models. We first have go to BGR and then convert it ahead. \n",
    "\n",
    "cv.waitKey(0)"
   ]
  },
  {
   "cell_type": "code",
   "execution_count": 7,
   "metadata": {},
   "outputs": [
    {
     "data": {
      "text/plain": [
       "-1"
      ]
     },
     "execution_count": 7,
     "metadata": {},
     "output_type": "execute_result"
    }
   ],
   "source": [
    "# Color Channels\n",
    "img  = cv.imread('./Resources/Photos/park.jpg')\n",
    "\n",
    "# b, g and r are the grayscale images in which low density area means that particular color is present and high density area represent absence of that color or empty.\n",
    "b, g, r = cv.split(img)\n",
    "cv.imshow('Image', img)\n",
    "# cv.imshow('Blue', b)\n",
    "# cv.imshow('Green', g)\n",
    "# cv.imshow('Red', r)\n",
    "\n",
    "# We can also show the actual color channel of an image as follows\n",
    "blank = np.zeros(img.shape[:2], dtype='uint8')\n",
    "blue = cv.merge([b, blank, blank])\n",
    "green= cv.merge([blank, g, blank])\n",
    "red = cv.merge([blank, blank, r])\n",
    "cv.imshow('Blue', blue)\n",
    "cv.imshow('Green', green)\n",
    "cv.imshow('Red', red)\n",
    "\n",
    "cv.waitKey(0)"
   ]
  },
  {
   "cell_type": "code",
   "execution_count": 6,
   "metadata": {},
   "outputs": [
    {
     "data": {
      "text/plain": [
       "-1"
      ]
     },
     "execution_count": 6,
     "metadata": {},
     "output_type": "execute_result"
    }
   ],
   "source": [
    "# Smoothing/Blurring -  The images which we get generally have a lot of noise in them and blurring helps us reduce that noise\n",
    "\n",
    "img = cv.imread('./Resources/Photos/cats.jpg')\n",
    "\n",
    "# Averaging\n",
    "average = cv.blur(img, ksize=(5,5)) # This replaces each pixel in a window with the average pixel value of that window (Remember window and kernel and how kernel slides)\n",
    "cv.imshow('Average Blur', average)\n",
    "\n",
    "# Gaussian Blur - It uses a Gaussian distribution of weights where as in average blur we use evenly distributed weights\n",
    "# It is better than Average Blur\n",
    "gauss = cv.GaussianBlur(img, (5,5), 0)\n",
    "cv.imshow('Gaussian Blur', gauss)\n",
    "\n",
    "# Median Blur\n",
    "median = cv.medianBlur(img, 5)\n",
    "cv.imshow('Median Blur', median)\n",
    "\n",
    "# Bilateral Blur - This blur retains the edges in an image\n",
    "bilat = cv.bilateralFilter(img, 10, 35, 25)\n",
    "cv.imshow('Bilateral Blur', bilat)\n",
    "\n",
    "cv.waitKey(0)"
   ]
  },
  {
   "cell_type": "code",
   "execution_count": 2,
   "metadata": {},
   "outputs": [
    {
     "data": {
      "text/plain": [
       "-1"
      ]
     },
     "execution_count": 2,
     "metadata": {},
     "output_type": "execute_result"
    }
   ],
   "source": [
    "# Bitwise operations\n",
    "blank = np.zeros((400,400), dtype='uint8')\n",
    "\n",
    "rectangle = cv.rectangle(blank.copy(), (30,30), (370,370), 255, -1)\n",
    "circle = cv.circle(blank.copy(), (200, 200), 200, 255, -1)\n",
    "\n",
    "bit_and = cv.bitwise_and(rectangle, circle) # Returns the intersecting regions between images\n",
    "bit_or = cv.bitwise_or(rectangle, circle) # Returns both intersecting and non-intersecting regions between images\n",
    "bit_xor = cv.bitwise_xor(rectangle, circle) # Returns the non-intersecting regions between images\n",
    "bit_not = cv.bitwise_not(rectangle)\n",
    "\n",
    "# cv.imshow('Bitwise AND', bit_and)\n",
    "# cv.imshow('Bitwise OR', bit_or)\n",
    "# cv.imshow('Bitwise XOR', bit_xor)\n",
    "cv.imshow('Bitwise NOT', bit_not)\n",
    "\n",
    "cv.waitKey(0)"
   ]
  },
  {
   "cell_type": "code",
   "execution_count": 6,
   "metadata": {},
   "outputs": [
    {
     "data": {
      "text/plain": [
       "-1"
      ]
     },
     "execution_count": 6,
     "metadata": {},
     "output_type": "execute_result"
    }
   ],
   "source": [
    "# Masking - It helps us concentrate only on the interested regions of image, e.g. Faces in Face Recognition model\n",
    "img = cv.imread('./Resources/Photos/cats.jpg')\n",
    "cv.imshow('Cats', img)\n",
    "\n",
    "blank = np.zeros(img.shape[:2], dtype='uint8') # Mask and the image dimensions SHOULD always be same\n",
    "\n",
    "circle = cv.circle(blank.copy(), (img.shape[1]//2, img.shape[0]//2), 100, 255, -1)\n",
    "rectangle = cv.rectangle(blank.copy(), (30,30), (370,370), 255, -1)\n",
    "\n",
    "mask = cv.bitwise_and(circle, rectangle)\n",
    "masked_img = cv.bitwise_and(img, img, mask=mask)\n",
    "cv.imshow('Masked Image', masked_img)\n",
    "\n",
    "cv.waitKey(0)"
   ]
  },
  {
   "cell_type": "code",
   "execution_count": 18,
   "metadata": {},
   "outputs": [
    {
     "data": {
      "image/png": "[encoded data removed]",
      "text/plain": [
       "<Figure size 432x288 with 1 Axes>"
      ]
     },
     "metadata": {
      "needs_background": "light"
     },
     "output_type": "display_data"
    },
    {
     "data": {
      "text/plain": [
       "-1"
      ]
     },
     "execution_count": 18,
     "metadata": {},
     "output_type": "execute_result"
    }
   ],
   "source": [
    "# Histogram Computation - Plotting a histogram of number of pixels vs Pixel intensities\n",
    "img = cv.imread('./Resources/Photos/cats.jpg')\n",
    "# cv.imshow('Cats', img)\n",
    "\n",
    "# gray = cv.cvtColor(img, cv.COLOR_BGR2GRAY)\n",
    "# # cv.imshow('Grayscale Image', gray)\n",
    "\n",
    "# circle = cv.circle(blank.copy(), (img.shape[1]//2, img.shape[0]//2), 100, 255, -1)\n",
    "# mask = cv.bitwise_and(gray, gray, mask=circle)\n",
    "\n",
    "# hist = cv.calcHist([gray], [0], mask, [256], [0,256])\n",
    "\n",
    "# plt.figure()\n",
    "# plt.title('Grayscale Histogram')\n",
    "# plt.xlabel('Pixel Intensity')\n",
    "# plt.ylabel('# of pixels')\n",
    "# plt.plot(hist)\n",
    "# plt.show()\n",
    "\n",
    "# Plotting a histogram for the color image\n",
    "colors = ['b', 'g', 'r']\n",
    "plt.figure()\n",
    "plt.title('Grayscale Histogram')\n",
    "plt.xlabel('Pixel Intensity')\n",
    "plt.ylabel('# of pixels')\n",
    "\n",
    "for i, col in enumerate(colors):\n",
    "    hist = cv.calcHist([img], [i], None, [256], [0,256])\n",
    "    plt.plot(hist, color=col)\n",
    "plt.show()\n",
    "cv.waitKey(0)"
   ]
  },
  {
   "cell_type": "code",
   "execution_count": 4,
   "metadata": {},
   "outputs": [
    {
     "data": {
      "text/plain": [
       "-1"
      ]
     },
     "execution_count": 4,
     "metadata": {},
     "output_type": "execute_result"
    }
   ],
   "source": [
    "# Thresholding and Binarising\n",
    "\n",
    "img = cv.imread('./Resources/Photos/cats.jpg')\n",
    "gray = cv.cvtColor(img, cv.COLOR_BGR2GRAY)\n",
    "# cv.imshow('Gray Image', gray)\n",
    "\n",
    "# Simple Thresholding - Simply convert pixels with values above and below threshold as white and black respectively\n",
    "threshold, thresh = cv.threshold(gray, 127, 255, cv.THRESH_BINARY)\n",
    "cv.imshow('Simple Threshold', thresh)\n",
    "threshold, inv_thresh = cv.threshold(gray, 127, 255, cv.THRESH_BINARY_INV)\n",
    "# cv.imshow('Simple Threshold', inv_thresh)\n",
    "\n",
    "# Adaptive Thresholding - Here the function finds the optimal threshold value, we don't pass a threshold value\n",
    "adaptive_thresh = cv.adaptiveThreshold(gray, 255, cv.ADAPTIVE_THRESH_GAUSSIAN_C, cv.THRESH_BINARY, 7, 3)\n",
    "cv.imshow('Adaptive Threshold', adaptive_thresh)\n",
    "\n",
    "cv.waitKey(0)"
   ]
  },
  {
   "cell_type": "code",
   "execution_count": 6,
   "metadata": {},
   "outputs": [
    {
     "data": {
      "text/plain": [
       "-1"
      ]
     },
     "execution_count": 6,
     "metadata": {},
     "output_type": "execute_result"
    }
   ],
   "source": [
    "# Edge Detection\n",
    "\n",
    "img = cv.imread('./Resources/Photos/park.jpg')\n",
    "gray = cv.cvtColor(img, cv.COLOR_BGR2GRAY)\n",
    "\n",
    "# Laplacian\n",
    "lap = cv.Laplacian(gray, cv.CV_64F)\n",
    "lap = np.uint8(np.absolute(lap))\n",
    "cv.imshow('Laplacian Edges', lap)\n",
    "\n",
    "# Sobel - It can compute the gradient in 2 different directions, X and Y\n",
    "sobelx = cv.Sobel(gray, cv.CV_64F, 1, 0)\n",
    "sobely = cv.Sobel(gray, cv.CV_64F, 0, 1)\n",
    "combined_sobel = cv.bitwise_or(sobelx, sobely)\n",
    "cv.imshow('Combined Sobel', combined_sobel)\n",
    "\n",
    "# Canny - It gives us the most accurate edges and it is a more advanced algorithm than other two\n",
    "canny = cv.Canny(gray, 125, 175)\n",
    "cv.imshow('Canny', canny)\n",
    "\n",
    "cv.waitKey(0)"
   ]
  },
  {
   "cell_type": "code",
   "execution_count": null,
   "metadata": {},
   "outputs": [],
   "source": []
  }
 ],
 "metadata": {
  "kernelspec": {
   "display_name": "Python 3",
   "language": "python",
   "name": "python3"
  },
  "language_info": {
   "codemirror_mode": {
    "name": "ipython",
    "version": 3
   },
   "file_extension": ".py",
   "mimetype": "text/x-python",
   "name": "python",
   "nbconvert_exporter": "python",
   "pygments_lexer": "ipython3",
   "version": "3.9.6"
  }
 },
 "nbformat": 4,
 "nbformat_minor": 2
}
